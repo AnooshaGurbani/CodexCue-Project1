{
 "cells": [
  {
   "cell_type": "markdown",
   "id": "a0fa8d13",
   "metadata": {},
   "source": [
    "# Titanic Dataset EDA"
   ]
  },
  {
   "cell_type": "markdown",
   "id": "cbe63e26",
   "metadata": {},
   "source": [
    "   # Load and Analyze the Dataset"
   ]
  },
  {
   "cell_type": "code",
   "execution_count": 1,
   "id": "b9de920b",
   "metadata": {},
   "outputs": [
    {
     "name": "stdout",
     "output_type": "stream",
     "text": [
      "   survived  pclass     sex   age  sibsp  parch     fare embarked  class  \\\n",
      "0         0       3    male  22.0      1      0   7.2500        S  Third   \n",
      "1         1       1  female  38.0      1      0  71.2833        C  First   \n",
      "2         1       3  female  26.0      0      0   7.9250        S  Third   \n",
      "3         1       1  female  35.0      1      0  53.1000        S  First   \n",
      "4         0       3    male  35.0      0      0   8.0500        S  Third   \n",
      "\n",
      "     who  adult_male deck  embark_town alive  alone  \n",
      "0    man        True  NaN  Southampton    no  False  \n",
      "1  woman       False    C    Cherbourg   yes  False  \n",
      "2  woman       False  NaN  Southampton   yes   True  \n",
      "3  woman       False    C  Southampton   yes  False  \n",
      "4    man        True  NaN  Southampton    no   True  \n",
      "survived         0\n",
      "pclass           0\n",
      "sex              0\n",
      "age            177\n",
      "sibsp            0\n",
      "parch            0\n",
      "fare             0\n",
      "embarked         2\n",
      "class            0\n",
      "who              0\n",
      "adult_male       0\n",
      "deck           688\n",
      "embark_town      2\n",
      "alive            0\n",
      "alone            0\n",
      "dtype: int64\n"
     ]
    }
   ],
   "source": [
    "import seaborn as sns\n",
    "import pandas as pd\n",
    "import matplotlib.pyplot as plt\n",
    "import numpy as np\n",
    "from scipy import stats\n",
    "import statsmodels.api as sm\n",
    "from statsmodels.formula.api import ols\n",
    "from statsmodels.stats.multicomp import pairwise_tukeyhsd\n",
    "\n",
    "# Load the Titanic dataset\n",
    "titanic = sns.load_dataset('titanic')\n",
    "\n",
    "# Display the first few rows of the dataset\n",
    "print(titanic.head())\n",
    "\n",
    "# Check for missing values\n",
    "print(titanic.isnull().sum())"
   ]
  },
  {
   "cell_type": "code",
   "execution_count": 4,
   "id": "d8981e43",
   "metadata": {},
   "outputs": [
    {
     "name": "stdout",
     "output_type": "stream",
     "text": [
      "     survived  pclass     sex   age  sibsp  parch     fare embarked   class  \\\n",
      "0           0       3    male  22.0      1      0   7.2500        S   Third   \n",
      "1           1       1  female  38.0      1      0  71.2833        C   First   \n",
      "2           1       3  female  26.0      0      0   7.9250        S   Third   \n",
      "3           1       1  female  35.0      1      0  53.1000        S   First   \n",
      "4           0       3    male  35.0      0      0   8.0500        S   Third   \n",
      "..        ...     ...     ...   ...    ...    ...      ...      ...     ...   \n",
      "886         0       2    male  27.0      0      0  13.0000        S  Second   \n",
      "887         1       1  female  19.0      0      0  30.0000        S   First   \n",
      "888         0       3  female   NaN      1      2  23.4500        S   Third   \n",
      "889         1       1    male  26.0      0      0  30.0000        C   First   \n",
      "890         0       3    male  32.0      0      0   7.7500        Q   Third   \n",
      "\n",
      "       who  adult_male deck  embark_town alive  alone  \n",
      "0      man        True  NaN  Southampton    no  False  \n",
      "1    woman       False    C    Cherbourg   yes  False  \n",
      "2    woman       False  NaN  Southampton   yes   True  \n",
      "3    woman       False    C  Southampton   yes  False  \n",
      "4      man        True  NaN  Southampton    no   True  \n",
      "..     ...         ...  ...          ...   ...    ...  \n",
      "886    man        True  NaN  Southampton    no   True  \n",
      "887  woman       False    B  Southampton   yes   True  \n",
      "888  woman       False  NaN  Southampton    no  False  \n",
      "889    man        True    C    Cherbourg   yes   True  \n",
      "890    man        True  NaN   Queenstown    no   True  \n",
      "\n",
      "[891 rows x 15 columns]\n"
     ]
    }
   ],
   "source": [
    "import seaborn as sns\n",
    "import pandas as pd\n",
    "\n",
    "# Load the Titanic dataset\n",
    "titanic = sns.load_dataset('titanic')\n",
    "\n",
    "# Print the dataset\n",
    "print(titanic)\n"
   ]
  },
  {
   "cell_type": "code",
   "execution_count": 5,
   "id": "4bc9a6e5",
   "metadata": {},
   "outputs": [
    {
     "name": "stdout",
     "output_type": "stream",
     "text": [
      "     Survived  Pclass                                               Name  \\\n",
      "0           0       3                             Mr. Owen Harris Braund   \n",
      "1           1       1  Mrs. John Bradley (Florence Briggs Thayer) Cum...   \n",
      "2           1       3                              Miss. Laina Heikkinen   \n",
      "3           1       1        Mrs. Jacques Heath (Lily May Peel) Futrelle   \n",
      "4           0       3                            Mr. William Henry Allen   \n",
      "..        ...     ...                                                ...   \n",
      "882         0       2                               Rev. Juozas Montvila   \n",
      "883         1       1                        Miss. Margaret Edith Graham   \n",
      "884         0       3                     Miss. Catherine Helen Johnston   \n",
      "885         1       1                               Mr. Karl Howell Behr   \n",
      "886         0       3                                 Mr. Patrick Dooley   \n",
      "\n",
      "        Sex   Age  Siblings/Spouses Aboard  Parents/Children Aboard     Fare  \n",
      "0      male  22.0                        1                        0   7.2500  \n",
      "1    female  38.0                        1                        0  71.2833  \n",
      "2    female  26.0                        0                        0   7.9250  \n",
      "3    female  35.0                        1                        0  53.1000  \n",
      "4      male  35.0                        0                        0   8.0500  \n",
      "..      ...   ...                      ...                      ...      ...  \n",
      "882    male  27.0                        0                        0  13.0000  \n",
      "883  female  19.0                        0                        0  30.0000  \n",
      "884  female   7.0                        1                        2  23.4500  \n",
      "885    male  26.0                        0                        0  30.0000  \n",
      "886    male  32.0                        0                        0   7.7500  \n",
      "\n",
      "[887 rows x 8 columns]\n"
     ]
    }
   ],
   "source": [
    "import pandas as pd\n",
    "\n",
    "# Load the Titanic dataset from a CSV file\n",
    "url = 'https://web.stanford.edu/class/archive/cs/cs109/cs109.1166/stuff/titanic.csv'\n",
    "titanic = pd.read_csv(url)\n",
    "\n",
    "# Print the dataset\n",
    "print(titanic)"
   ]
  },
  {
   "cell_type": "markdown",
   "id": "ca795c70",
   "metadata": {},
   "source": [
    "# Handling Duplicates and Missing Values"
   ]
  },
  {
   "cell_type": "code",
   "execution_count": 7,
   "id": "af27d92d",
   "metadata": {},
   "outputs": [
    {
     "name": "stdout",
     "output_type": "stream",
     "text": [
      "Duplicates:\n",
      "     survived  pclass     sex   age  sibsp  parch     fare embarked   class  \\\n",
      "47          1       3  female   NaN      0      0   7.7500        Q   Third   \n",
      "76          0       3    male   NaN      0      0   7.8958        S   Third   \n",
      "77          0       3    male   NaN      0      0   8.0500        S   Third   \n",
      "87          0       3    male   NaN      0      0   8.0500        S   Third   \n",
      "95          0       3    male   NaN      0      0   8.0500        S   Third   \n",
      "..        ...     ...     ...   ...    ...    ...      ...      ...     ...   \n",
      "870         0       3    male  26.0      0      0   7.8958        S   Third   \n",
      "877         0       3    male  19.0      0      0   7.8958        S   Third   \n",
      "878         0       3    male   NaN      0      0   7.8958        S   Third   \n",
      "884         0       3    male  25.0      0      0   7.0500        S   Third   \n",
      "886         0       2    male  27.0      0      0  13.0000        S  Second   \n",
      "\n",
      "       who  adult_male deck  embark_town alive  alone  \n",
      "47   woman       False  NaN   Queenstown   yes   True  \n",
      "76     man        True  NaN  Southampton    no   True  \n",
      "77     man        True  NaN  Southampton    no   True  \n",
      "87     man        True  NaN  Southampton    no   True  \n",
      "95     man        True  NaN  Southampton    no   True  \n",
      "..     ...         ...  ...          ...   ...    ...  \n",
      "870    man        True  NaN  Southampton    no   True  \n",
      "877    man        True  NaN  Southampton    no   True  \n",
      "878    man        True  NaN  Southampton    no   True  \n",
      "884    man        True  NaN  Southampton    no   True  \n",
      "886    man        True  NaN  Southampton    no   True  \n",
      "\n",
      "[107 rows x 15 columns]\n",
      "\n",
      "Missing values:\n",
      "survived         0\n",
      "pclass           0\n",
      "sex              0\n",
      "age            177\n",
      "sibsp            0\n",
      "parch            0\n",
      "fare             0\n",
      "embarked         2\n",
      "class            0\n",
      "who              0\n",
      "adult_male       0\n",
      "deck           688\n",
      "embark_town      2\n",
      "alive            0\n",
      "alone            0\n",
      "dtype: int64\n"
     ]
    }
   ],
   "source": [
    "import seaborn as sns\n",
    "import pandas as pd\n",
    "\n",
    "# Load the Titanic dataset\n",
    "titanic = sns.load_dataset('titanic')\n",
    "\n",
    "# Identify duplicates\n",
    "duplicates = titanic[titanic.duplicated()]\n",
    "print(\"Duplicates:\")\n",
    "print(duplicates)\n",
    "\n",
    "# Identify missing values\n",
    "missing_values = titanic.isnull().sum()\n",
    "print(\"\\nMissing values:\")\n",
    "print(missing_values)"
   ]
  },
  {
   "cell_type": "code",
   "execution_count": 12,
   "id": "73447868",
   "metadata": {},
   "outputs": [
    {
     "name": "stdout",
     "output_type": "stream",
     "text": [
      "Duplicates:\n",
      "     survived  pclass     sex   age  sibsp  parch     fare embarked   class  \\\n",
      "47          1       3  female   NaN      0      0   7.7500        Q   Third   \n",
      "76          0       3    male   NaN      0      0   7.8958        S   Third   \n",
      "77          0       3    male   NaN      0      0   8.0500        S   Third   \n",
      "87          0       3    male   NaN      0      0   8.0500        S   Third   \n",
      "95          0       3    male   NaN      0      0   8.0500        S   Third   \n",
      "..        ...     ...     ...   ...    ...    ...      ...      ...     ...   \n",
      "870         0       3    male  26.0      0      0   7.8958        S   Third   \n",
      "877         0       3    male  19.0      0      0   7.8958        S   Third   \n",
      "878         0       3    male   NaN      0      0   7.8958        S   Third   \n",
      "884         0       3    male  25.0      0      0   7.0500        S   Third   \n",
      "886         0       2    male  27.0      0      0  13.0000        S  Second   \n",
      "\n",
      "       who  adult_male deck  embark_town alive  alone  \n",
      "47   woman       False  NaN   Queenstown   yes   True  \n",
      "76     man        True  NaN  Southampton    no   True  \n",
      "77     man        True  NaN  Southampton    no   True  \n",
      "87     man        True  NaN  Southampton    no   True  \n",
      "95     man        True  NaN  Southampton    no   True  \n",
      "..     ...         ...  ...          ...   ...    ...  \n",
      "870    man        True  NaN  Southampton    no   True  \n",
      "877    man        True  NaN  Southampton    no   True  \n",
      "878    man        True  NaN  Southampton    no   True  \n",
      "884    man        True  NaN  Southampton    no   True  \n",
      "886    man        True  NaN  Southampton    no   True  \n",
      "\n",
      "[107 rows x 15 columns]\n",
      "\n",
      "Missing values before handling:\n",
      "survived         0\n",
      "pclass           0\n",
      "sex              0\n",
      "age            106\n",
      "sibsp            0\n",
      "parch            0\n",
      "fare             0\n",
      "embarked         2\n",
      "class            0\n",
      "who              0\n",
      "adult_male       0\n",
      "deck           582\n",
      "embark_town      2\n",
      "alive            0\n",
      "alone            0\n",
      "dtype: int64\n",
      "\n",
      "Missing values after handling:\n",
      "survived       0\n",
      "pclass         0\n",
      "sex            0\n",
      "age            0\n",
      "sibsp          0\n",
      "parch          0\n",
      "fare           0\n",
      "embarked       0\n",
      "class          0\n",
      "who            0\n",
      "adult_male     0\n",
      "deck           0\n",
      "embark_town    0\n",
      "alive          0\n",
      "alone          0\n",
      "dtype: int64\n",
      "\n",
      "Cleaned Dataset:\n",
      "     survived  pclass     sex    age  sibsp  parch     fare embarked  class  \\\n",
      "0           0       3    male  22.00      1      0   7.2500        S  Third   \n",
      "1           1       1  female  38.00      1      0  71.2833        C  First   \n",
      "2           1       3  female  26.00      0      0   7.9250        S  Third   \n",
      "3           1       1  female  35.00      1      0  53.1000        S  First   \n",
      "4           0       3    male  35.00      0      0   8.0500        S  Third   \n",
      "..        ...     ...     ...    ...    ...    ...      ...      ...    ...   \n",
      "885         0       3  female  39.00      0      5  29.1250        Q  Third   \n",
      "887         1       1  female  19.00      0      0  30.0000        S  First   \n",
      "888         0       3  female  28.25      1      2  23.4500        S  Third   \n",
      "889         1       1    male  26.00      0      0  30.0000        C  First   \n",
      "890         0       3    male  32.00      0      0   7.7500        Q  Third   \n",
      "\n",
      "       who  adult_male     deck  embark_town alive  alone  \n",
      "0      man        True  Unknown  Southampton    no  False  \n",
      "1    woman       False        C    Cherbourg   yes  False  \n",
      "2    woman       False  Unknown  Southampton   yes   True  \n",
      "3    woman       False        C  Southampton   yes  False  \n",
      "4      man        True  Unknown  Southampton    no   True  \n",
      "..     ...         ...      ...          ...   ...    ...  \n",
      "885  woman       False  Unknown   Queenstown    no  False  \n",
      "887  woman       False        B  Southampton   yes   True  \n",
      "888  woman       False  Unknown  Southampton    no  False  \n",
      "889    man        True        C    Cherbourg   yes   True  \n",
      "890    man        True  Unknown   Queenstown    no   True  \n",
      "\n",
      "[784 rows x 15 columns]\n"
     ]
    }
   ],
   "source": [
    "import seaborn as sns\n",
    "import pandas as pd\n",
    "\n",
    "# Load the Titanic dataset\n",
    "titanic = sns.load_dataset('titanic')\n",
    "\n",
    "# Identify duplicates\n",
    "duplicates = titanic[titanic.duplicated()]\n",
    "print(\"Duplicates:\")\n",
    "print(duplicates)\n",
    "\n",
    "# Drop duplicates\n",
    "titanic = titanic.drop_duplicates()\n",
    "\n",
    "# Identify missing values\n",
    "missing_values = titanic.isnull().sum()\n",
    "print(\"\\nMissing values before handling:\")\n",
    "print(missing_values)\n",
    "\n",
    "# Handling missing values\n",
    "# Fill missing age with the median age\n",
    "titanic['age'] = titanic['age'].fillna(titanic['age'].median())\n",
    "\n",
    "# Fill missing embarked with the most common value\n",
    "titanic['embarked'] = titanic['embarked'].fillna(titanic['embarked'].mode()[0])\n",
    "\n",
    "# Add 'Unknown' to the categories of 'deck' and fill missing values\n",
    "titanic['deck'] = titanic['deck'].cat.add_categories('Unknown').fillna('Unknown')\n",
    "\n",
    "# Fill missing embark_town with the most common value\n",
    "titanic['embark_town'] = titanic['embark_town'].fillna(titanic['embark_town'].mode()[0])\n",
    "\n",
    "# Verify if missing values are handled\n",
    "missing_values_after = titanic.isnull().sum()\n",
    "print(\"\\nMissing values after handling:\")\n",
    "print(missing_values_after)\n",
    "\n",
    "# Display the cleaned dataset\n",
    "print(\"\\nCleaned Dataset:\")\n",
    "print(titanic)\n"
   ]
  },
  {
   "cell_type": "code",
   "execution_count": 13,
   "id": "7b920df0",
   "metadata": {},
   "outputs": [],
   "source": [
    "# Convert categorical columns to category type\n",
    "categorical_columns = ['sex', 'class', 'embarked', 'who', 'deck', 'embark_town', 'alive', 'alone']\n",
    "for column in categorical_columns:\n",
    "    titanic[column] = titanic[column].astype('category')"
   ]
  },
  {
   "cell_type": "markdown",
   "id": "80163adf",
   "metadata": {},
   "source": [
    "# Descriptive Analytics and Visualizations"
   ]
  },
  {
   "cell_type": "code",
   "execution_count": 14,
   "id": "37c9f9ec",
   "metadata": {},
   "outputs": [
    {
     "name": "stdout",
     "output_type": "stream",
     "text": [
      "          survived      pclass   sex         age       sibsp       parch  \\\n",
      "count   784.000000  784.000000   784  784.000000  784.000000  784.000000   \n",
      "unique         NaN         NaN     2         NaN         NaN         NaN   \n",
      "top            NaN         NaN  male         NaN         NaN         NaN   \n",
      "freq           NaN         NaN   491         NaN         NaN         NaN   \n",
      "mean      0.411990    2.243622   NaN   29.650408    0.522959    0.415816   \n",
      "std       0.492507    0.855056   NaN   13.734925    0.986231    0.836922   \n",
      "min       0.000000    1.000000   NaN    0.420000    0.000000    0.000000   \n",
      "25%       0.000000    1.000000   NaN   22.000000    0.000000    0.000000   \n",
      "50%       0.000000    3.000000   NaN   28.250000    0.000000    0.000000   \n",
      "75%       1.000000    3.000000   NaN   36.000000    1.000000    1.000000   \n",
      "max       1.000000    3.000000   NaN   80.000000    8.000000    6.000000   \n",
      "\n",
      "              fare embarked  class  who adult_male     deck  embark_town  \\\n",
      "count   784.000000      784    784  784        784      784          784   \n",
      "unique         NaN        3      3    3          2        8            3   \n",
      "top            NaN        S  Third  man       True  Unknown  Southampton   \n",
      "freq           NaN      570    405  451        451      582          570   \n",
      "mean     34.711740      NaN    NaN  NaN        NaN      NaN          NaN   \n",
      "std      52.160151      NaN    NaN  NaN        NaN      NaN          NaN   \n",
      "min       0.000000      NaN    NaN  NaN        NaN      NaN          NaN   \n",
      "25%       8.050000      NaN    NaN  NaN        NaN      NaN          NaN   \n",
      "50%      15.900000      NaN    NaN  NaN        NaN      NaN          NaN   \n",
      "75%      34.109350      NaN    NaN  NaN        NaN      NaN          NaN   \n",
      "max     512.329200      NaN    NaN  NaN        NaN      NaN          NaN   \n",
      "\n",
      "       alive alone  \n",
      "count    784   784  \n",
      "unique     2     2  \n",
      "top       no  True  \n",
      "freq     461   446  \n",
      "mean     NaN   NaN  \n",
      "std      NaN   NaN  \n",
      "min      NaN   NaN  \n",
      "25%      NaN   NaN  \n",
      "50%      NaN   NaN  \n",
      "75%      NaN   NaN  \n",
      "max      NaN   NaN  \n"
     ]
    }
   ],
   "source": [
    "# Descriptive statistics\n",
    "print(titanic.describe(include='all'))"
   ]
  },
  {
   "cell_type": "markdown",
   "id": "2b031390",
   "metadata": {},
   "source": [
    "## Survival Rate by Class"
   ]
  },
  {
   "cell_type": "code",
   "execution_count": 15,
   "id": "5c631872",
   "metadata": {},
   "outputs": [
    {
     "data": {
      "image/png": "[encoded data removed]",
      "text/plain": [
       "<Figure size 720x432 with 1 Axes>"
      ]
     },
     "metadata": {
      "needs_background": "light"
     },
     "output_type": "display_data"
    }
   ],
   "source": [
    "plt.figure(figsize=(10, 6))\n",
    "sns.countplot(x='class', hue='survived', data=titanic)\n",
    "plt.title('Survival Rate by Class')\n",
    "plt.xlabel('Class')\n",
    "plt.ylabel('Count')\n",
    "plt.show()"
   ]
  },
  {
   "cell_type": "markdown",
   "id": "cca68974",
   "metadata": {},
   "source": [
    "## Survival Rate by Sex"
   ]
  },
  {
   "cell_type": "code",
   "execution_count": 16,
   "id": "c5111afb",
   "metadata": {},
   "outputs": [
    {
     "data": {
      "image/png": "[encoded data removed]",
      "text/plain": [
       "<Figure size 720x432 with 1 Axes>"
      ]
     },
     "metadata": {
      "needs_background": "light"
     },
     "output_type": "display_data"
    }
   ],
   "source": [
    "plt.figure(figsize=(10, 6))\n",
    "sns.countplot(x='sex', hue='survived', data=titanic)\n",
    "plt.title('Survival Rate by Sex')\n",
    "plt.xlabel('Sex')\n",
    "plt.ylabel('Count')\n",
    "plt.show()"
   ]
  },
  {
   "cell_type": "markdown",
   "id": "e5fa35d3",
   "metadata": {},
   "source": [
    "## Age Distribution of Survivors and Non-Survivors"
   ]
  },
  {
   "cell_type": "code",
   "execution_count": 17,
   "id": "95e6c309",
   "metadata": {},
   "outputs": [
    {
     "data": {
      "image/png": "[encoded data removed]",
      "text/plain": [
       "<Figure size 720x432 with 1 Axes>"
      ]
     },
     "metadata": {
      "needs_background": "light"
     },
     "output_type": "display_data"
    }
   ],
   "source": [
    "plt.figure(figsize=(10, 6))\n",
    "sns.histplot(titanic[titanic['survived'] == 1]['age'], kde=True, color='blue', label='Survived')\n",
    "sns.histplot(titanic[titanic['survived'] == 0]['age'], kde=True, color='red', label='Did Not Survive')\n",
    "plt.title('Age Distribution of Survivors and Non-Survivors')\n",
    "plt.xlabel('Age')\n",
    "plt.ylabel('Frequency')\n",
    "plt.legend()\n",
    "plt.show()"
   ]
  },
  {
   "cell_type": "markdown",
   "id": "697ab9fd",
   "metadata": {},
   "source": [
    "## Boxplot of Age by Survival Status"
   ]
  },
  {
   "cell_type": "code",
   "execution_count": 18,
   "id": "9c165118",
   "metadata": {},
   "outputs": [
    {
     "data": {
      "image/png": "[encoded data removed]",
      "text/plain": [
       "<Figure size 720x432 with 1 Axes>"
      ]
     },
     "metadata": {
      "needs_background": "light"
     },
     "output_type": "display_data"
    }
   ],
   "source": [
    "plt.figure(figsize=(10, 6))\n",
    "sns.boxplot(x='survived', y='age', data=titanic)\n",
    "plt.title('Boxplot of Age by Survival Status')\n",
    "plt.xlabel('Survived')\n",
    "plt.ylabel('Age')\n",
    "plt.show()"
   ]
  },
  {
   "cell_type": "markdown",
   "id": "ed1e8be5",
   "metadata": {},
   "source": [
    "## Heatmap of Correlations"
   ]
  },
  {
   "cell_type": "code",
   "execution_count": 19,
   "id": "a467c749",
   "metadata": {},
   "outputs": [
    {
     "data": {
      "image/png": "[encoded data removed]",
      "text/plain": [
       "<Figure size 720x432 with 2 Axes>"
      ]
     },
     "metadata": {
      "needs_background": "light"
     },
     "output_type": "display_data"
    }
   ],
   "source": [
    "plt.figure(figsize=(10, 6))\n",
    "sns.heatmap(titanic.corr(), annot=True, cmap='coolwarm')\n",
    "plt.title('Heatmap of Correlations')\n",
    "plt.show()"
   ]
  },
  {
   "cell_type": "code",
   "execution_count": null,
   "id": "b2f318bf",
   "metadata": {},
   "outputs": [],
   "source": []
  },
  {
   "cell_type": "markdown",
   "id": "b490fdde",
   "metadata": {},
   "source": [
    "# Statistical Tests\n"
   ]
  },
  {
   "cell_type": "code",
   "execution_count": 20,
   "id": "a12774d6",
   "metadata": {},
   "outputs": [
    {
     "name": "stdout",
     "output_type": "stream",
     "text": [
      "Shapiro-Wilk Test for Age: ShapiroResult(statistic=0.9698302745819092, pvalue=1.2019449671663018e-11)\n"
     ]
    }
   ],
   "source": [
    "# Shapiro-Wilk Test for Age\n",
    "shapiro_test = stats.shapiro(titanic['age'])\n",
    "print(\"Shapiro-Wilk Test for Age:\", shapiro_test)"
   ]
  },
  {
   "cell_type": "code",
   "execution_count": 22,
   "id": "a8b32c01",
   "metadata": {},
   "outputs": [
    {
     "name": "stdout",
     "output_type": "stream",
     "text": [
      "K2 Test for Age: NormaltestResult(statistic=31.389662915768834, pvalue=1.526937649033723e-07)\n"
     ]
    }
   ],
   "source": [
    "# K2 Test for Age (D'Agostino's K-squared test)\n",
    "k2_test = stats.normaltest(titanic['age'])\n",
    "print(\"K2 Test for Age:\", k2_test)"
   ]
  },
  {
   "cell_type": "code",
   "execution_count": 23,
   "id": "12ab6fe3",
   "metadata": {},
   "outputs": [
    {
     "name": "stdout",
     "output_type": "stream",
     "text": [
      "Kolmogorov-Smirnov Test for Age: KstestResult(statistic=0.1132843868649771, pvalue=3.208679599801529e-09)\n"
     ]
    }
   ],
   "source": [
    "# Kolmogorov-Smirnov Test for Age\n",
    "ks_test = stats.kstest(titanic['age'], 'norm', args=(np.mean(titanic['age']), np.std(titanic['age'])))\n",
    "print(\"Kolmogorov-Smirnov Test for Age:\", ks_test)"
   ]
  },
  {
   "cell_type": "code",
   "execution_count": 32,
   "id": "0546e620",
   "metadata": {},
   "outputs": [
    {
     "name": "stdout",
     "output_type": "stream",
     "text": [
      "ANOVA Table for Age by Class:\n",
      "                  sum_sq     df          F        PR(>F)\n",
      "C(pclass)   17661.248508    2.0  53.031166  2.535934e-22\n",
      "Residual   130050.272362  781.0        NaN           NaN\n"
     ]
    }
   ],
   "source": [
    "# ANOVA for Age by Class\n",
    "model = ols('age ~ C(pclass)', data=titanic).fit()\n",
    "anova_table = sm.stats.anova_lm(model, typ=2)\n",
    "\n",
    "# Print ANOVA table\n",
    "print(\"ANOVA Table for Age by Class:\")\n",
    "print(anova_table)"
   ]
  },
  {
   "cell_type": "code",
   "execution_count": 25,
   "id": "633b2f2a",
   "metadata": {},
   "outputs": [
    {
     "name": "stdout",
     "output_type": "stream",
     "text": [
      " Multiple Comparison of Means - Tukey HSD, FWER=0.05 \n",
      "=====================================================\n",
      "group1 group2 meandiff p-adj   lower    upper  reject\n",
      "-----------------------------------------------------\n",
      " First Second  -7.1087  0.001 -10.2481 -3.9693   True\n",
      " First  Third -11.2287  0.001 -13.7896 -8.6679   True\n",
      "Second  Third    -4.12 0.0017  -6.9186 -1.3214   True\n",
      "-----------------------------------------------------\n"
     ]
    }
   ],
   "source": [
    "# Tukey's HSD Test for Age by Class\n",
    "tukey = pairwise_tukeyhsd(endog=titanic['age'], groups=titanic['class'], alpha=0.05)\n",
    "print(tukey)"
   ]
  },
  {
   "cell_type": "code",
   "execution_count": 26,
   "id": "b617d362",
   "metadata": {},
   "outputs": [
    {
     "name": "stdout",
     "output_type": "stream",
     "text": [
      "Chi-Squared Test for Survival by Sex:\n",
      "Chi2: 206.3995178801755, p-value: 8.383408590582411e-47, Degrees of Freedom: 1\n"
     ]
    }
   ],
   "source": [
    "# Chi-Squared Test for Survival by Sex\n",
    "contingency_table = pd.crosstab(titanic['sex'], titanic['survived'])\n",
    "chi2, p, dof, expected = stats.chi2_contingency(contingency_table)\n",
    "print(\"Chi-Squared Test for Survival by Sex:\")\n",
    "print(f\"Chi2: {chi2}, p-value: {p}, Degrees of Freedom: {dof}\")"
   ]
  },
  {
   "cell_type": "code",
   "execution_count": 27,
   "id": "00cb8adc",
   "metadata": {},
   "outputs": [
    {
     "name": "stdout",
     "output_type": "stream",
     "text": [
      "T-test for Age between Survivors and Non-Survivors: Ttest_indResult(statistic=-2.2213092225905635, pvalue=0.026615668345723792)\n"
     ]
    }
   ],
   "source": [
    "# T-tests for Age between Survivors and Non-Survivors\n",
    "survivors_age = titanic[titanic['survived'] == 1]['age']\n",
    "non_survivors_age = titanic[titanic['survived'] == 0]['age']\n",
    "t_test_result = stats.ttest_ind(survivors_age, non_survivors_age)\n",
    "print(\"T-test for Age between Survivors and Non-Survivors:\", t_test_result)"
   ]
  },
  {
   "cell_type": "markdown",
   "id": "778c741f",
   "metadata": {},
   "source": [
    "# Univariate and Bivariate Analysis\n",
    "\n",
    "## Univariate analysis - count of passengers ny Embark Town"
   ]
  },
  {
   "cell_type": "code",
   "execution_count": 28,
   "id": "02e1fa5f",
   "metadata": {},
   "outputs": [
    {
     "data": {
      "image/png": "[encoded data removed]",
      "text/plain": [
       "<Figure size 864x576 with 1 Axes>"
      ]
     },
     "metadata": {
      "needs_background": "light"
     },
     "output_type": "display_data"
    }
   ],
   "source": [
    "plt.figure(figsize=(12, 8))\n",
    "sns.countplot(y='embark_town', data=titanic)\n",
    "plt.title('Count of Passengers by Embark Town')\n",
    "plt.xlabel('Count')\n",
    "plt.ylabel('Embark Town')\n",
    "plt.show()"
   ]
  },
  {
   "cell_type": "markdown",
   "id": "eb574ec1",
   "metadata": {},
   "source": [
    "## Bivariate Analysis - Survival Rate by Embark Town"
   ]
  },
  {
   "cell_type": "code",
   "execution_count": 29,
   "id": "2af4aa79",
   "metadata": {},
   "outputs": [
    {
     "data": {
      "image/png": "[encoded data removed]",
      "text/plain": [
       "<Figure size 864x432 with 1 Axes>"
      ]
     },
     "metadata": {
      "needs_background": "light"
     },
     "output_type": "display_data"
    }
   ],
   "source": [
    "plt.figure(figsize=(12, 6))\n",
    "sns.countplot(x='embark_town', hue='survived', data=titanic)\n",
    "plt.title('Survival Rate by Embark Town')\n",
    "plt.xlabel('Embark Town')\n",
    "plt.ylabel('Count')\n",
    "plt.show()"
   ]
  },
  {
   "cell_type": "markdown",
   "id": "4edaf460",
   "metadata": {},
   "source": [
    "# Outlier Analysis"
   ]
  },
  {
   "cell_type": "code",
   "execution_count": 30,
   "id": "13540e80",
   "metadata": {},
   "outputs": [
    {
     "data": {
      "image/png": "[encoded data removed]",
      "text/plain": [
       "<Figure size 720x432 with 1 Axes>"
      ]
     },
     "metadata": {
      "needs_background": "light"
     },
     "output_type": "display_data"
    },
    {
     "name": "stdout",
     "output_type": "stream",
     "text": [
      "Outliers in Age:\n",
      "     survived  pclass     sex    age  sibsp  parch      fare embarked   class  \\\n",
      "11          1       1  female  58.00      0      0   26.5500        S   First   \n",
      "33          0       2    male  66.00      0      0   10.5000        S  Second   \n",
      "54          0       1    male  65.00      0      1   61.9792        C   First   \n",
      "78          1       2    male   0.83      0      2   29.0000        S  Second   \n",
      "94          0       3    male  59.00      0      0    7.2500        S   Third   \n",
      "96          0       1    male  71.00      0      0   34.6542        C   First   \n",
      "116         0       3    male  70.50      0      0    7.7500        Q   Third   \n",
      "170         0       1    male  61.00      0      0   33.5000        S   First   \n",
      "195         1       1  female  58.00      0      0  146.5208        C   First   \n",
      "232         0       2    male  59.00      0      0   13.5000        S  Second   \n",
      "252         0       1    male  62.00      0      0   26.5500        S   First   \n",
      "268         1       1  female  58.00      0      1  153.4625        S   First   \n",
      "275         1       1  female  63.00      1      0   77.9583        S   First   \n",
      "280         0       3    male  65.00      0      0    7.7500        Q   Third   \n",
      "305         1       1    male   0.92      1      2  151.5500        S   First   \n",
      "326         0       3    male  61.00      0      0    6.2375        S   Third   \n",
      "366         1       1  female  60.00      1      0   75.2500        C   First   \n",
      "438         0       1    male  64.00      1      4  263.0000        S   First   \n",
      "456         0       1    male  65.00      0      0   26.5500        S   First   \n",
      "469         1       3  female   0.75      2      1   19.2583        C   Third   \n",
      "483         1       3  female  63.00      0      0    9.5875        S   Third   \n",
      "487         0       1    male  58.00      0      0   29.7000        C   First   \n",
      "493         0       1    male  71.00      0      0   49.5042        C   First   \n",
      "545         0       1    male  64.00      0      0   26.0000        S   First   \n",
      "555         0       1    male  62.00      0      0   26.5500        S   First   \n",
      "570         1       2    male  62.00      0      0   10.5000        S  Second   \n",
      "587         1       1    male  60.00      1      1   79.2000        C   First   \n",
      "625         0       1    male  61.00      0      0   32.3208        S   First   \n",
      "630         1       1    male  80.00      0      0   30.0000        S   First   \n",
      "659         0       1    male  58.00      0      2  113.2750        C   First   \n",
      "672         0       2    male  70.00      0      0   10.5000        S  Second   \n",
      "684         0       2    male  60.00      1      1   39.0000        S  Second   \n",
      "694         0       1    male  60.00      0      0   26.5500        S   First   \n",
      "745         0       1    male  70.00      1      1   71.0000        S   First   \n",
      "755         1       2    male   0.67      1      1   14.5000        S  Second   \n",
      "803         1       3    male   0.42      0      1    8.5167        C   Third   \n",
      "829         1       1  female  62.00      0      0   80.0000        S   First   \n",
      "831         1       2    male   0.83      1      1   18.7500        S  Second   \n",
      "851         0       3    male  74.00      0      0    7.7750        S   Third   \n",
      "\n",
      "       who  adult_male     deck  embark_town alive  alone  \n",
      "11   woman       False        C  Southampton   yes   True  \n",
      "33     man        True  Unknown  Southampton    no   True  \n",
      "54     man        True        B    Cherbourg    no  False  \n",
      "78   child       False  Unknown  Southampton   yes  False  \n",
      "94     man        True  Unknown  Southampton    no   True  \n",
      "96     man        True        A    Cherbourg    no   True  \n",
      "116    man        True  Unknown   Queenstown    no   True  \n",
      "170    man        True        B  Southampton    no   True  \n",
      "195  woman       False        B    Cherbourg   yes   True  \n",
      "232    man        True  Unknown  Southampton    no   True  \n",
      "252    man        True        C  Southampton    no   True  \n",
      "268  woman       False        C  Southampton   yes  False  \n",
      "275  woman       False        D  Southampton   yes  False  \n",
      "280    man        True  Unknown   Queenstown    no   True  \n",
      "305  child       False        C  Southampton   yes  False  \n",
      "326    man        True  Unknown  Southampton    no   True  \n",
      "366  woman       False        D    Cherbourg   yes  False  \n",
      "438    man        True        C  Southampton    no  False  \n",
      "456    man        True        E  Southampton    no   True  \n",
      "469  child       False  Unknown    Cherbourg   yes  False  \n",
      "483  woman       False  Unknown  Southampton   yes   True  \n",
      "487    man        True        B    Cherbourg    no   True  \n",
      "493    man        True  Unknown    Cherbourg    no   True  \n",
      "545    man        True  Unknown  Southampton    no   True  \n",
      "555    man        True  Unknown  Southampton    no   True  \n",
      "570    man        True  Unknown  Southampton   yes   True  \n",
      "587    man        True        B    Cherbourg   yes  False  \n",
      "625    man        True        D  Southampton    no   True  \n",
      "630    man        True        A  Southampton   yes   True  \n",
      "659    man        True        D    Cherbourg    no  False  \n",
      "672    man        True  Unknown  Southampton    no   True  \n",
      "684    man        True  Unknown  Southampton    no  False  \n",
      "694    man        True  Unknown  Southampton    no   True  \n",
      "745    man        True        B  Southampton    no  False  \n",
      "755  child       False  Unknown  Southampton   yes  False  \n",
      "803  child       False  Unknown    Cherbourg   yes  False  \n",
      "829  woman       False        B  Southampton   yes   True  \n",
      "831  child       False  Unknown  Southampton   yes  False  \n",
      "851    man        True  Unknown  Southampton    no   True  \n"
     ]
    }
   ],
   "source": [
    "# Outlier Analysis for Age\n",
    "plt.figure(figsize=(10, 6))\n",
    "sns.boxplot(x=titanic['age'])\n",
    "plt.title('Outlier Analysis of Age')\n",
    "plt.xlabel('Age')\n",
    "plt.show()\n",
    "\n",
    "# Identifying Outliers for Age\n",
    "q1 = titanic['age'].quantile(0.25)\n",
    "q3 = titanic['age'].quantile(0.75)\n",
    "iqr = q3 - q1\n",
    "lower_bound = q1 - 1.5 * iqr\n",
    "upper_bound = q3 + 1.5 * iqr\n",
    "outliers = titanic[(titanic['age'] < lower_bound) | (titanic['age'] > upper_bound)]\n",
    "print(\"Outliers in Age:\")\n",
    "print(outliers)"
   ]
  },
  {
   "cell_type": "markdown",
   "id": "34404c76",
   "metadata": {},
   "source": [
    "# Summary of Results\n",
    "Descriptive Analytics: The dataset includes various socio-demographic factors, with missing values handled appropriately.\n",
    "Survival Rate by Class: Higher-class passengers had higher survival rates.\n",
    "Survival Rate by Sex: Females had higher survival rates compared to males.\n",
    "Age Distribution: Younger passengers had higher survival rates.\n",
    "Statistical Tests: Confirm normality assumptions and identify significant differences in age across classes and survival status.\n",
    "Outlier Analysis: Identifies extreme age values that may need further investigation.\n",
    "Insights\n",
    "\n",
    "# Descriptive Statistics:\n",
    "\n",
    "The Titanic dataset has missing values in several columns which were handled by imputation or filling with appropriate values.\n",
    "Survival Rate by Class:\n",
    "\n",
    "Passengers in the first class had the highest survival rates, followed by second class, with third class having the lowest survival rates.\n",
    "\n",
    "## Survival Rate by Sex:\n",
    "\n",
    "Females had significantly higher survival rates compared to males.\n",
    "## Age Distribution of Survivors and Non-Survivors:\n",
    "\n",
    "Survivors tend to be younger, with a noticeable peak in the child age group.\n",
    "## Boxplot of Age by Survival Status:\n",
    "\n",
    "The boxplot shows that survivors generally had a lower median age compared to non-survivors.\n",
    "## Heatmap of Correlations:\n",
    "\n",
    "The heatmap shows that age, fare, and class are significantly correlated with survival.\n",
    "\n",
    "# Statistical Testing\n",
    "Shapiro-Wilk Test: The age data does not follow a normal distribution.\n",
    "\n",
    "K2 Test: The age data also fails the K2 test for normality.\n",
    "\n",
    "Kolmogorov-Smirnov Test: The age distribution significantly deviates from a normal distribution.\n",
    "\n",
    "ANOVA Test: There are significant differences in age across different classes.\n",
    "\n",
    "Tukey Test: The test identifies specific class pairs with significant differences in age.\n",
    "\n",
    "Chi-Squared Test: There is a significant association between sex and survival.\n",
    "\n",
    "T-tests: There is a significant difference in age between survivors and non-survivors.\n",
    "# Outlier Analysis:\n",
    "\n",
    "Outliers in age were identified, indicating some passengers had extreme age values which could affect analysis."
   ]
  }
 ],
 "metadata": {
  "kernelspec": {
   "display_name": "Python 3",
   "language": "python",
   "name": "python3"
  },
  "language_info": {
   "codemirror_mode": {
    "name": "ipython",
    "version": 3
   },
   "file_extension": ".py",
   "mimetype": "text/x-python",
   "name": "python",
   "nbconvert_exporter": "python",
   "pygments_lexer": "ipython3",
   "version": "3.8.8"
  }
 },
 "nbformat": 4,
 "nbformat_minor": 5
}
